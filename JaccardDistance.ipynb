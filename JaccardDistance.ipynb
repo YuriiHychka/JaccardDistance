{
 "cells": [
  {
   "cell_type": "markdown",
   "metadata": {},
   "source": [
    "## Відстань Жаккара\n",
    "Відстань Жаккара вимірює відмінність між скінченними множинами. Може набувати значення від 0 до 1, де 0 - найменша відстань і множини ідентичні, а 1 - найбільша відстань і множини абсолютно різні.\n",
    "$$ d_{J}(A,B)=\\frac{|A \\cup B|-|A \\cap B|}{|A\\cup B|} $$"
   ]
  },
  {
   "cell_type": "markdown",
   "metadata": {},
   "source": [
    "### Приклад"
   ]
  },
  {
   "attachments": {
    "sets-2.png": {
     "image/png": "[encoded data removed]"
    }
   },
   "cell_type": "markdown",
   "metadata": {},
   "source": [
    "![sets-2.png](attachment:sets-2.png)\n",
    "\n",
    "$ A = (a, b, c, d) $\n",
    "\n",
    "$ B = (c, d, e, f) $\n",
    "\n",
    "$ A \\cup B = (a, b, c, d, e, f) $\n",
    "\n",
    "$ A \\cap B = (c, d) $\n",
    "\n",
    "$ |A \\cup B| = 6 $\n",
    "\n",
    "$ |A \\cap B| = 2 $\n",
    "$$ d_{J}(A,B) = \\frac{|A \\cup B|-|A \\cap B|}{|A\\cup B|} = \\frac{6-2}{6} = 0.6667 $$"
   ]
  },
  {
   "cell_type": "markdown",
   "metadata": {},
   "source": [
    "### Імпорт"
   ]
  },
  {
   "cell_type": "code",
   "execution_count": 1,
   "metadata": {},
   "outputs": [],
   "source": [
    "import numpy as np\n",
    "from scipy.spatial.distance import jaccard\n",
    "import seaborn as sns;\n",
    "import matplotlib as plt"
   ]
  },
  {
   "cell_type": "markdown",
   "metadata": {},
   "source": [
    "### Дані"
   ]
  },
  {
   "cell_type": "code",
   "execution_count": 2,
   "metadata": {},
   "outputs": [],
   "source": [
    "texts = [\n",
    "    'What is the step by step guide to invest in share market in india',\n",
    "    'What is the step by step guide to invest in share market',\n",
    "    'How can I increase the speed of my internet connection while using a VPN',\n",
    "    'How can Internet speed be increased by hacking through DNS',\n",
    "    'Which one dissolve in water quikly sugar salt methane and carbon di oxide',\n",
    "    'Which fish would survive in salt water'\n",
    "]"
   ]
  },
  {
   "cell_type": "markdown",
   "metadata": {},
   "source": [
    "### Підготовка даних\n",
    "- Сформуємо сет слів(text_set) для кожного речення та хеш(onehot_texts) для кожного речення у вигляді one-hot кодування. \n",
    "- Ключі до one-hot кодування в масиві words. \n",
    "- Підхід з набором сетів зручніший для розуміння. Підхід з кодуванням використовується в бібліотеці SciPy."
   ]
  },
  {
   "cell_type": "code",
   "execution_count": 3,
   "metadata": {},
   "outputs": [],
   "source": [
    "words = []\n",
    "text_set = []\n",
    "for text in texts:\n",
    "    splited_text = text.lower().split(' ')\n",
    "    words += splited_text\n",
    "    text_set.append(set(splited_text))\n",
    "words = list(set(words))\n",
    "onehot_texts = []\n",
    "for txt in text_set:\n",
    "    onehot = [False for i in range(len(words))]\n",
    "    for word in txt:\n",
    "        onehot[words.index(word)] = True\n",
    "    onehot_texts.append(onehot)"
   ]
  },
  {
   "cell_type": "code",
   "execution_count": 4,
   "metadata": {},
   "outputs": [
    {
     "name": "stdout",
     "output_type": "stream",
     "text": [
      "What is the step by step guide to invest in share market in india\n",
      "{'to', 'step', 'what', 'by', 'in', 'the', 'guide', 'india', 'is', 'market', 'invest', 'share'}\n",
      "[False, False, False, True, False, False, False, False, True, True, False, False, False, False, False, False, True, True, False, True, False, False, True, False, False, False, False, True, False, False, False, False, True, False, False, False, False, False, True, False, False, True, False, True, False]\n"
     ]
    }
   ],
   "source": [
    "print(texts[0])\n",
    "print(text_set[0])\n",
    "print(onehot_texts[0])"
   ]
  },
  {
   "cell_type": "markdown",
   "metadata": {},
   "source": [
    "### Функція для обрахунку відстані Жаккарда, що працює з сетами слів\n",
    "Реалізуємо наступну формулу:\n",
    "$$ d_{J}(A,B)=\\frac{|(A \\setminus B) \\cup (B \\setminus A)|}{|A\\cup B|}=\\frac{|A \\cup B|-|A \\cap B|}{|A\\cup B|} $$\n",
    "Ця формула дає аналогічний результат, що і формула в шапці"
   ]
  },
  {
   "cell_type": "code",
   "execution_count": 5,
   "metadata": {},
   "outputs": [],
   "source": [
    "def jaccard_set(a,b):\n",
    "    return len(list(a-b) + list(b-a))/len(set(list(a)+list(b)))"
   ]
  },
  {
   "cell_type": "markdown",
   "metadata": {},
   "source": [
    "Порахуємо матрицю подібності"
   ]
  },
  {
   "cell_type": "code",
   "execution_count": 6,
   "metadata": {},
   "outputs": [
    {
     "data": {
      "image/png": "[encoded data removed]",
      "text/plain": [
       "<Figure size 432x288 with 2 Axes>"
      ]
     },
     "metadata": {
      "needs_background": "light"
     },
     "output_type": "display_data"
    }
   ],
   "source": [
    "marks = np.zeros((len(texts), len(texts)))\n",
    "for i in range(len(text_set)):\n",
    "    for j in range(len(text_set)):\n",
    "        marks[i,j] = jaccard_set(text_set[i], text_set[j])\n",
    "ax = sns.heatmap(marks)"
   ]
  },
  {
   "cell_type": "markdown",
   "metadata": {},
   "source": [
    "З матриці подібності видно, що відстань між реченнями з більшою кількістю спільних слів менша."
   ]
  },
  {
   "cell_type": "markdown",
   "metadata": {},
   "source": [
    "### Функція для обрахунку відстані Жаккарда, що працює з one-hot кодуванням\n",
    "По подібному принципу реалізована функція в бібліотеці SciPy: https://docs.scipy.org/doc/scipy/reference/generated/scipy.spatial.distance.jaccard.html"
   ]
  },
  {
   "cell_type": "code",
   "execution_count": 7,
   "metadata": {},
   "outputs": [],
   "source": [
    "def jaccard_onehot(a,b):\n",
    "    aa = np.array(a) == True\n",
    "    bb = np.array(b) == True\n",
    "    return (np.logical_or(aa,bb).sum()-np.logical_and(aa,bb).sum())/np.logical_or(aa,bb).sum()"
   ]
  },
  {
   "cell_type": "markdown",
   "metadata": {},
   "source": [
    "Порахуємо матрицю подібності"
   ]
  },
  {
   "cell_type": "code",
   "execution_count": 8,
   "metadata": {},
   "outputs": [
    {
     "data": {
      "image/png": "[encoded data removed]",
      "text/plain": [
       "<Figure size 432x288 with 2 Axes>"
      ]
     },
     "metadata": {
      "needs_background": "light"
     },
     "output_type": "display_data"
    }
   ],
   "source": [
    "marks = np.zeros((len(texts), len(texts)))\n",
    "for i in range(len(onehot_texts)):\n",
    "    for j in range(len(onehot_texts)):\n",
    "        marks[i,j] = jaccard_onehot(onehot_texts[i], onehot_texts[j])\n",
    "ax = sns.heatmap(marks)"
   ]
  },
  {
   "cell_type": "markdown",
   "metadata": {},
   "source": [
    "З графіку видно, що результат аналогічний, однак наш набір даних при такому кодуванні може займати менше пам'яті"
   ]
  },
  {
   "cell_type": "markdown",
   "metadata": {},
   "source": [
    "### Функція обрахунку відстані Жаккарда з бібліотеки SciPy\n",
    "Порахуємо матрицю подібності"
   ]
  },
  {
   "cell_type": "code",
   "execution_count": 9,
   "metadata": {},
   "outputs": [
    {
     "data": {
      "image/png": "[encoded data removed]",
      "text/plain": [
       "<Figure size 432x288 with 2 Axes>"
      ]
     },
     "metadata": {
      "needs_background": "light"
     },
     "output_type": "display_data"
    }
   ],
   "source": [
    "marks = np.zeros((len(texts), len(texts)))\n",
    "for i in range(len(onehot_texts)):\n",
    "    for j in range(len(onehot_texts)):\n",
    "        marks[i,j] = jaccard(onehot_texts[i], onehot_texts[j])\n",
    "ax = sns.heatmap(marks)"
   ]
  },
  {
   "cell_type": "markdown",
   "metadata": {},
   "source": [
    "Варто зазначити, що функція з бібліотеки SciPy може приймати не тільки значення в (0,1). Давайте подивимось результати роботи фунції при інших даних."
   ]
  },
  {
   "cell_type": "code",
   "execution_count": 10,
   "metadata": {},
   "outputs": [
    {
     "name": "stdout",
     "output_type": "stream",
     "text": [
      "0.5\n",
      "0.0\n",
      "0.5\n",
      "0.0\n"
     ]
    }
   ],
   "source": [
    "print(jaccard([1,1,0],[1,0,0]))\n",
    "print(jaccard([1,1,0],[1,1,0]))\n",
    "print(jaccard([1,1,0],[1,2,0]))\n",
    "print(jaccard([1,2,0],[1,2,0]))"
   ]
  },
  {
   "cell_type": "markdown",
   "metadata": {},
   "source": [
    "При двох порожніх масивах відстань буде 0."
   ]
  },
  {
   "cell_type": "code",
   "execution_count": 11,
   "metadata": {},
   "outputs": [
    {
     "name": "stdout",
     "output_type": "stream",
     "text": [
      "0\n"
     ]
    }
   ],
   "source": [
    "print(jaccard([],[]))"
   ]
  }
 ],
 "metadata": {
  "kernelspec": {
   "display_name": "Python 3",
   "language": "python",
   "name": "python3"
  },
  "language_info": {
   "codemirror_mode": {
    "name": "ipython",
    "version": 3
   },
   "file_extension": ".py",
   "mimetype": "text/x-python",
   "name": "python",
   "nbconvert_exporter": "python",
   "pygments_lexer": "ipython3",
   "version": "3.8.5"
  }
 },
 "nbformat": 4,
 "nbformat_minor": 4
}
